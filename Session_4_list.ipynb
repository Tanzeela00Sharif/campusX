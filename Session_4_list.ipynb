{
  "nbformat": 4,
  "nbformat_minor": 0,
  "metadata": {
    "colab": {
      "provenance": [],
      "toc_visible": true
    },
    "kernelspec": {
      "name": "python3",
      "display_name": "Python 3"
    },
    "language_info": {
      "name": "python"
    }
  },
  "cells": [
    {
      "cell_type": "markdown",
      "source": [
        "# list\n",
        "key charecter:\n",
        "\n",
        "mutable, index, duplicate allow,  syntax []\n",
        "\n",
        "more memory occupy(due to referencial arrey)\n",
        "\n",
        "more time taking for execution\n",
        "\n",
        "dynamic array\n"
      ],
      "metadata": {
        "id": "Y4TlKEuWV42Q"
      }
    },
    {
      "cell_type": "markdown",
      "source": [
        "#list formation\n"
      ],
      "metadata": {
        "id": "6OgUktb7WQwj"
      }
    },
    {
      "cell_type": "code",
      "source": [
        "#empty list\n",
        "L1 = []\n",
        "#print(L1)\n",
        "#type(L1)\n",
        "#1D list\n",
        "L2=[4,5,6,7]\n",
        "\n",
        "\n",
        "#2D list\n",
        "\n",
        "L3 = [[1,2],[3,4]]\n",
        "#3D list\n",
        "L4 = [[[1,2],[3,4]],[[5,6],[7,8]]]\n",
        "#4D list\n",
        "L5 = [[[[1,2],[3,4],[5,6]],[[4.6],[6 ,7],[7,7]]],[[[8,9],[2,6],[5,6]],[[6,7],[2,4],[1,5]]]]\n",
        "print(L1)\n",
        "print(L2)\n",
        "print(L3)\n",
        "print(L4)\n",
        "print(L5)"
      ],
      "metadata": {
        "colab": {
          "base_uri": "https://localhost:8080/"
        },
        "id": "7r48MtWYWWFB",
        "outputId": "ddff2301-5457-4fcc-a8c8-7c9e16f0e83b"
      },
      "execution_count": null,
      "outputs": [
        {
          "output_type": "stream",
          "name": "stdout",
          "text": [
            "[]\n",
            "[4, 5, 6, 7]\n",
            "[[1, 2], [3, 4]]\n",
            "[[[1, 2], [3, 4]], [[5, 6], [7, 8]]]\n",
            "[[[[1, 2], [3, 4], [5, 6]], [[4.6], [6, 7], [7, 7]]], [[[8, 9], [2, 6], [5, 6]], [[6, 7], [2, 4], [1, 5]]]]\n"
          ]
        }
      ]
    },
    {
      "cell_type": "markdown",
      "source": [
        "#accssing th list elements"
      ],
      "metadata": {
        "id": "14ZYYBKualx7"
      }
    },
    {
      "cell_type": "markdown",
      "source": [
        "indexing\n",
        "\n",
        "sliicing"
      ],
      "metadata": {
        "id": "taCaHnRLaysG"
      }
    },
    {
      "cell_type": "code",
      "source": [
        "#1D\n",
        "L3 = [[1,2],[3,4]]\n",
        "print(L3[1])\n",
        "#2D\n",
        "L4 = [[[1,2],[3,4]],[[5,6],[7,8]]]\n",
        "print(L4[0][1][1])\n",
        "#4D\n",
        "L5 = [[[[1,2],[3,4],[5,6]],[[4.6],[6 ,7],[7,7]]],[[[8,9],[2,6],[5,6]],[[6,7],[2,4],[1,5]]]]\n",
        "print(L5[0][0][2][1])\n",
        "\n"
      ],
      "metadata": {
        "colab": {
          "base_uri": "https://localhost:8080/"
        },
        "id": "C9rcHn-1asQg",
        "outputId": "57b8ffe2-380e-4047-d99e-e1fdb5f60fb3"
      },
      "execution_count": null,
      "outputs": [
        {
          "output_type": "stream",
          "name": "stdout",
          "text": [
            "[3, 4]\n",
            "4\n",
            "6\n"
          ]
        }
      ]
    },
    {
      "cell_type": "code",
      "source": [
        "##slicing\n",
        "L2=[4, 5, 6, 7]\n",
        "print(L2[0:])\n",
        "9\n",
        "print(L2[:3])\n",
        "print(L2[0:2])"
      ],
      "metadata": {
        "colab": {
          "base_uri": "https://localhost:8080/"
        },
        "id": "C0ovxoc8asTz",
        "outputId": "35bf02f5-a45b-4b43-d2bc-6a87467a21b2"
      },
      "execution_count": null,
      "outputs": [
        {
          "output_type": "stream",
          "name": "stdout",
          "text": [
            "[4, 5, 6, 7]\n",
            "[4, 5, 6]\n",
            "[4, 5]\n"
          ]
        }
      ]
    },
    {
      "cell_type": "markdown",
      "source": [
        "#additing the list element"
      ],
      "metadata": {
        "id": "pN5xLDXVcubF"
      }
    },
    {
      "cell_type": "markdown",
      "source": [
        "append\n",
        "\n",
        "extend\n",
        "\n",
        "insert\n",
        "\n",
        "update"
      ],
      "metadata": {
        "id": "Ps1bcvzkc01_"
      }
    },
    {
      "cell_type": "code",
      "source": [
        "#append\n",
        "L2=[4, 5, 6, 7]\n",
        "#append prefer to add the single item\n",
        "L2.append(10)\n",
        "print(L2)\n",
        "L2.append([1,3,4])\n",
        "print(L2)\n",
        "L2.append(\"lahore\")\n",
        "print(L2)\n",
        "\n",
        "#extend\n",
        "L3= [12, True,False,'amnina',2+5j]\n",
        "L3.extend([3,4,5])\n",
        "print(L3)\n",
        "\n",
        "\n",
        "#insert\n",
        "#add element to the index number\n",
        "L3.insert(2,23)\n",
        "print(L3)\n",
        "\n",
        "\n"
      ],
      "metadata": {
        "colab": {
          "base_uri": "https://localhost:8080/"
        },
        "id": "hjSg5Oprcyie",
        "outputId": "ebfdd512-65ed-4428-9abc-f33e1a400d2c"
      },
      "execution_count": null,
      "outputs": [
        {
          "output_type": "stream",
          "name": "stdout",
          "text": [
            "[4, 5, 6, 7, 10]\n",
            "[4, 5, 6, 7, 10, [1, 3, 4]]\n",
            "[4, 5, 6, 7, 10, [1, 3, 4], 'lahore']\n",
            "[12, True, False, 'amnina', (2+5j), 3, 4, 5]\n",
            "[12, True, 23, False, 'amnina', (2+5j), 3, 4, 5]\n"
          ]
        }
      ]
    },
    {
      "cell_type": "markdown",
      "source": [
        "#editing ehe element of the list\n",
        "\n",
        "through indexing\n",
        "\n",
        "through slicing"
      ],
      "metadata": {
        "id": "3w24EaK0fqUG"
      }
    },
    {
      "cell_type": "code",
      "source": [
        "#through indexing\n",
        "L6 = [12, True, 23, False, 'amnina', (2+5j), 3, 4, 5]\n",
        "L6[2] = \"good\"\n",
        "print(L6)\n",
        "\n",
        "\n",
        "\n",
        "#through slicing\n",
        "L6[5:7]=[100,200]\n",
        "print(L6)"
      ],
      "metadata": {
        "colab": {
          "base_uri": "https://localhost:8080/"
        },
        "id": "PKQpEH_BcymE",
        "outputId": "772d18f0-ca37-4c38-ed5d-06663480f3ba"
      },
      "execution_count": null,
      "outputs": [
        {
          "output_type": "stream",
          "name": "stdout",
          "text": [
            "[12, True, 'good', False, 'amnina', (2+5j), 3, 4, 5]\n",
            "[12, True, 'good', False, 'amnina', 100, 200, 4, 5]\n"
          ]
        }
      ]
    },
    {
      "cell_type": "markdown",
      "source": [
        "#deleting element from the list\n",
        "del(delete the wholelist)\n",
        "\n",
        "remove(remove the specific given element of the list)\n",
        "\n",
        "clear(remove the element and output the empty list)\n",
        "\n",
        "pop(when no argument given remove the last element)"
      ],
      "metadata": {
        "id": "hRfjwc4kg1m3"
      }
    },
    {
      "cell_type": "code",
      "source": [
        "#del(delete the wholelist)\n",
        "L6 = [12, True, 23, False, 'amnina', (2+5j), 3, 4, 5]\n",
        "del(L6)\n",
        "#print(L6)\n",
        "\n",
        "\n",
        "#remove(remove the specific given element of the list)\n",
        "L6 = [12, True, 23, False, 'amnina', (2+5j), 3, 4, 5]\n",
        "L6.remove(3)\n",
        "print(L6)\n",
        "\n",
        "#clear(remove the element and output the empty list)\n",
        "L6 = [12, True, 23, False, 'amnina', (2+5j), 3, 4, 5]\n",
        "#L6.clear()\n",
        "#print(L6)\n",
        "\n",
        "\n",
        "#pop(when no argument given remove the last element)\n",
        "L6 = [12, True, 23, False, 'amnina', (2+5j), 3, 4, 5]\n",
        "L6.pop(-2)\n",
        "print(L6)\n",
        "L6.clear()\n",
        "print(L6)"
      ],
      "metadata": {
        "colab": {
          "base_uri": "https://localhost:8080/"
        },
        "id": "i3zFR19Mg55r",
        "outputId": "ecc0497b-ab65-44af-a56a-b94e39e867ed"
      },
      "execution_count": null,
      "outputs": [
        {
          "output_type": "stream",
          "name": "stdout",
          "text": [
            "[12, True, 23, False, 'amnina', (2+5j), 4, 5]\n",
            "[12, True, 23, False, 'amnina', (2+5j), 3, 5]\n",
            "[]\n"
          ]
        }
      ]
    },
    {
      "cell_type": "markdown",
      "source": [
        "#operation on list\n",
        " arthimatic operations\n",
        "\n",
        " mambership operaters\n",
        "\n",
        " loops"
      ],
      "metadata": {
        "id": "aLy2QhivjuRJ"
      }
    },
    {
      "cell_type": "code",
      "source": [
        "#arthimatic operations\n",
        "#it concatenate two lists\n",
        "L1 = [1,23,4]\n",
        "L2 = [6,7,8]\n",
        "L3=(L1+L2)\n",
        "print(L3)\n",
        "\n",
        "#mambership operaters\n",
        "23 in L1\n",
        "3 in L2\n",
        "3 not in L1\n",
        "\n",
        "#loops\n",
        "for num in (L1):\n",
        "  print(num)\n"
      ],
      "metadata": {
        "colab": {
          "base_uri": "https://localhost:8080/"
        },
        "id": "qWqGkMBTg59P",
        "outputId": "cf72a598-0ec0-49c7-fb98-07823c13eea9"
      },
      "execution_count": null,
      "outputs": [
        {
          "output_type": "stream",
          "name": "stdout",
          "text": [
            "[1, 23, 4, 6, 7, 8]\n",
            "1\n",
            "23\n",
            "4\n"
          ]
        }
      ]
    },
    {
      "cell_type": "markdown",
      "source": [
        "#list functions\n",
        "\n",
        "min()\n",
        "\n",
        "max()\n",
        "\n",
        "len()\n",
        "\n",
        "sorted()/ sort the list temporarily\n",
        "\n",
        "sort() / sort the list permanantly\n",
        "\n",
        "copy()\n",
        "\n",
        "index()"
      ],
      "metadata": {
        "id": "pJ6wfPLLlkhy"
      }
    },
    {
      "cell_type": "code",
      "source": [
        "#min()\n",
        "list_1=[1,24,13,54,41,41,15,66]\n",
        "print(list_1)\n",
        "print(min(list_1))\n",
        "print(max(list_1))\n",
        "print(len(list_1))\n",
        "#sorted()/ sort the list temporarily\n",
        "print(sorted(list_1))\n",
        "print(list_1)\n",
        "\n"
      ],
      "metadata": {
        "colab": {
          "base_uri": "https://localhost:8080/"
        },
        "id": "WZ6a37Dek_4X",
        "outputId": "629102e2-9336-4aa8-e550-ce185e416217"
      },
      "execution_count": null,
      "outputs": [
        {
          "output_type": "stream",
          "name": "stdout",
          "text": [
            "[1, 24, 13, 54, 41, 41, 15, 66]\n",
            "1\n",
            "66\n",
            "8\n",
            "[1, 13, 15, 24, 41, 41, 54, 66]\n",
            "[1, 24, 13, 54, 41, 41, 15, 66]\n"
          ]
        }
      ]
    },
    {
      "cell_type": "code",
      "source": [
        "#sort verses sorted function\n",
        "list=[1,24,13,54,41,41,15,66]\n",
        "print(list)\n",
        "print(sorted(list))\n",
        "print(list)\n",
        "\n",
        "list.sort()\n",
        "print(list)\n"
      ],
      "metadata": {
        "colab": {
          "base_uri": "https://localhost:8080/"
        },
        "id": "ux2uChDOn_Np",
        "outputId": "b25bf35f-8934-4ce3-d7f7-b6d731cd88d5"
      },
      "execution_count": null,
      "outputs": [
        {
          "output_type": "stream",
          "name": "stdout",
          "text": [
            "[1, 24, 13, 54, 41, 41, 15, 66]\n",
            "[1, 13, 15, 24, 41, 41, 54, 66]\n",
            "[1, 24, 13, 54, 41, 41, 15, 66]\n",
            "[1, 13, 15, 24, 41, 41, 54, 66]\n"
          ]
        }
      ]
    },
    {
      "cell_type": "code",
      "source": [
        "#indexing\n",
        "list_=[1,24,13,54,41,41,15,66]\n",
        "list_.index(24)\n",
        "list_.index(41)"
      ],
      "metadata": {
        "colab": {
          "base_uri": "https://localhost:8080/"
        },
        "id": "7XX_3ETEslpy",
        "outputId": "fea5543f-d0e2-409b-9ff8-e25ec4ab70de"
      },
      "execution_count": null,
      "outputs": [
        {
          "output_type": "execute_result",
          "data": {
            "text/plain": [
              "4"
            ]
          },
          "metadata": {},
          "execution_count": 130
        }
      ]
    },
    {
      "cell_type": "code",
      "source": [
        "#reverse\n",
        "list1=[7,8,9,10,11,12,13]\n",
        "#temporarily reverse the list and original list does not change\n",
        "print(list1[::-1])\n",
        "print(list1)\n",
        "#reverse function permanatly change the parent string\n",
        "(list1.reverse())\n",
        "print(list1)\n",
        "\n"
      ],
      "metadata": {
        "colab": {
          "base_uri": "https://localhost:8080/"
        },
        "id": "i5A8NheapFeY",
        "outputId": "50f0c195-43bb-4cbc-dbd0-5f8286ef6ffa"
      },
      "execution_count": null,
      "outputs": [
        {
          "output_type": "stream",
          "name": "stdout",
          "text": [
            "[13, 12, 11, 10, 9, 8, 7]\n",
            "[7, 8, 9, 10, 11, 12, 13]\n",
            "[13, 12, 11, 10, 9, 8, 7]\n"
          ]
        }
      ]
    },
    {
      "cell_type": "code",
      "source": [
        "#count\n",
        "list2=[5,6,7,6,7,8,9]\n",
        "list2.count(7)\n",
        "list2.count(8)"
      ],
      "metadata": {
        "colab": {
          "base_uri": "https://localhost:8080/"
        },
        "id": "ND2f5dQPpFho",
        "outputId": "197e9667-bb77-43ca-85c4-e6f8fb71642f"
      },
      "execution_count": null,
      "outputs": [
        {
          "output_type": "execute_result",
          "data": {
            "text/plain": [
              "1"
            ]
          },
          "metadata": {},
          "execution_count": 86
        }
      ]
    },
    {
      "cell_type": "code",
      "source": [
        "#copy/shallow copy\n",
        "a =[1,3,4,5,6]\n",
        "b = a.copy()\n",
        "print(a)\n",
        "print(b)\n",
        "a.append(5)\n",
        "print(a)\n",
        "print(b)\n",
        "print(id(a))\n",
        "print(id(a.copy))\n",
        "print(id(b))"
      ],
      "metadata": {
        "colab": {
          "base_uri": "https://localhost:8080/"
        },
        "id": "dVRpf9v1qxYA",
        "outputId": "ea0bf647-7955-496d-8396-9657c52581b3"
      },
      "execution_count": null,
      "outputs": [
        {
          "output_type": "stream",
          "name": "stdout",
          "text": [
            "[1, 3, 4, 5, 6]\n",
            "[1, 3, 4, 5, 6]\n",
            "[1, 3, 4, 5, 6, 5]\n",
            "[1, 3, 4, 5, 6]\n",
            "136534160131584\n",
            "136533272563600\n",
            "136533683368768\n"
          ]
        }
      ]
    },
    {
      "cell_type": "markdown",
      "source": [
        "#list traverse\n",
        "two ways to traverse(access the element in the list)\n",
        "\n",
        "itemwise\n",
        "\n",
        "indexwise\n"
      ],
      "metadata": {
        "id": "1Bp41hlGv0UF"
      }
    },
    {
      "cell_type": "code",
      "source": [
        "#itemwise\n",
        "l3 = [4,5,6,7,8,9,10]\n",
        "#for item in l3:\n",
        "#print(item)\n",
        "\n",
        "\n",
        "#indexwise\n",
        "L3 = [4,5,6,7,8,9,10]\n",
        "for i in range(0,len(L3)):\n",
        "  print(f' {i}. {L3[i]}')\n",
        "\n",
        "\n"
      ],
      "metadata": {
        "colab": {
          "base_uri": "https://localhost:8080/"
        },
        "id": "tfqR5gdKwZm5",
        "outputId": "8be87b6c-2842-4803-f89f-74ff658a65b3"
      },
      "execution_count": null,
      "outputs": [
        {
          "output_type": "stream",
          "name": "stdout",
          "text": [
            " 0. 4\n",
            " 1. 5\n",
            " 2. 6\n",
            " 3. 7\n",
            " 4. 8\n",
            " 5. 9\n",
            " 6. 10\n"
          ]
        }
      ]
    },
    {
      "cell_type": "markdown",
      "source": [
        "#zip function"
      ],
      "metadata": {
        "id": "oJuqFmCAvuB-"
      }
    },
    {
      "cell_type": "code",
      "source": [
        "L_6=[1,2,3,4,5]\n",
        "L_7 = [3,6,7,8,9]\n",
        "(zip(L_6,L_7))\n",
        "\n",
        "multiply = [i*j for i,j in zip(L_6,L_7)]\n",
        "addition = [i+j for i,j in zip(L_6,L_7)]\n",
        "difference = [i-j for i,j in zip(L_6,L_7)]\n",
        "division= [i/j for i,j in zip(L_6,L_7)]\n",
        "print(multiply)\n",
        "print(addition)\n",
        "print(difference)\n",
        "print(division)\n"
      ],
      "metadata": {
        "colab": {
          "base_uri": "https://localhost:8080/"
        },
        "id": "gzJUe7syza-O",
        "outputId": "5e91f060-0fd0-427c-a213-fb8d152da1d9"
      },
      "execution_count": null,
      "outputs": [
        {
          "output_type": "stream",
          "name": "stdout",
          "text": [
            "[3, 12, 21, 32, 45]\n",
            "[4, 8, 10, 12, 14]\n",
            "[-2, -4, -4, -4, -4]\n",
            "[0.3333333333333333, 0.3333333333333333, 0.42857142857142855, 0.5, 0.5555555555555556]\n"
          ]
        }
      ]
    },
    {
      "cell_type": "code",
      "source": [
        "L_6=[1,2,3,4,5]\n",
        "L_8 = [3]\n",
        "\n",
        "mul = [i* L_8[0] for i in (L_6)]\n",
        "print(mul)"
      ],
      "metadata": {
        "colab": {
          "base_uri": "https://localhost:8080/"
        },
        "id": "L5fsoIk-28Og",
        "outputId": "f122f1f3-c6e2-4b02-a047-1d2cdc443f00"
      },
      "execution_count": null,
      "outputs": [
        {
          "output_type": "stream",
          "name": "stdout",
          "text": [
            "[3, 6, 9, 12, 15]\n"
          ]
        }
      ]
    },
    {
      "cell_type": "markdown",
      "source": [
        "#list comprehesion"
      ],
      "metadata": {
        "id": "bWxFLGhjsEIy"
      }
    },
    {
      "cell_type": "markdown",
      "source": [
        "list comprehension is more concise way to itterate any iterable and take less time and memory. concise code of few lines\n",
        "\n",
        "\n",
        "newlist  =  (expresssion for expresssion in iterable if ==True)"
      ],
      "metadata": {
        "id": "M8hq4eA9tFT8"
      }
    },
    {
      "cell_type": "code",
      "source": [
        "list =[]\n",
        "for i in range(1,11):\n",
        "  list.append(i)\n",
        "print(list)\n"
      ],
      "metadata": {
        "colab": {
          "base_uri": "https://localhost:8080/"
        },
        "id": "_5JSuCv2sJUs",
        "outputId": "6f16b784-0bfb-4164-e440-388d58920a4e"
      },
      "execution_count": null,
      "outputs": [
        {
          "output_type": "stream",
          "name": "stdout",
          "text": [
            "[1, 2, 3, 4, 5, 6, 7, 8, 9, 10]\n"
          ]
        }
      ]
    },
    {
      "cell_type": "code",
      "source": [
        "newlist = [i for i in range(1,12)]\n",
        "print(newlist)"
      ],
      "metadata": {
        "colab": {
          "base_uri": "https://localhost:8080/"
        },
        "id": "oo6GPUWZsJk0",
        "outputId": "51b6670d-6828-4923-9ac2-2a1a91d24601"
      },
      "execution_count": null,
      "outputs": [
        {
          "output_type": "stream",
          "name": "stdout",
          "text": [
            "[1, 2, 3, 4, 5, 6, 7, 8, 9, 10, 11]\n"
          ]
        }
      ]
    },
    {
      "cell_type": "code",
      "source": [
        "# scalar multiplication on a vector\n",
        "s = [3,4,5,6]\n",
        "v= [-5]\n",
        "[i*v[0] for i in s]\n"
      ],
      "metadata": {
        "colab": {
          "base_uri": "https://localhost:8080/"
        },
        "id": "q16Cf_q2u8OT",
        "outputId": "b9c31550-b6b4-482a-f23a-9e0ca00b3301"
      },
      "execution_count": null,
      "outputs": [
        {
          "output_type": "execute_result",
          "data": {
            "text/plain": [
              "[-15, -20, -25, -30]"
            ]
          },
          "metadata": {},
          "execution_count": 156
        }
      ]
    },
    {
      "cell_type": "code",
      "source": [
        "# Add squares\n",
        "c= [1, 2, 3, 4, 5, 6, 7, 8, 9, 10]\n",
        "sq  =[i**2 for i in c]\n",
        "print(sq)\n",
        "sum(sq)\n",
        "\n"
      ],
      "metadata": {
        "colab": {
          "base_uri": "https://localhost:8080/"
        },
        "id": "EmjuBzidvCea",
        "outputId": "626db27b-50b5-44c8-cb64-0c2bb7089635"
      },
      "execution_count": null,
      "outputs": [
        {
          "output_type": "stream",
          "name": "stdout",
          "text": [
            "[1, 4, 9, 16, 25, 36, 49, 64, 81, 100]\n"
          ]
        },
        {
          "output_type": "execute_result",
          "data": {
            "text/plain": [
              "385"
            ]
          },
          "metadata": {},
          "execution_count": 153
        }
      ]
    },
    {
      "cell_type": "code",
      "source": [
        "# Print all numbers divisible by 5 in the range of 1 to 50\n",
        "[i for i in range(1,51) if i%5==0]"
      ],
      "metadata": {
        "colab": {
          "base_uri": "https://localhost:8080/"
        },
        "id": "3j23JfCgvH3T",
        "outputId": "6f57199f-82ee-4a84-ecaa-1bd1b977f356"
      },
      "execution_count": null,
      "outputs": [
        {
          "output_type": "execute_result",
          "data": {
            "text/plain": [
              "[5, 10, 15, 20, 25, 30, 35, 40, 45, 50]"
            ]
          },
          "metadata": {},
          "execution_count": 154
        }
      ]
    },
    {
      "cell_type": "code",
      "source": [
        "# find languages which start with letter p\n",
        "languages = ['java', 'python', 'php', 'c#']\n",
        "[language for language in languages if language.startswith('p')]"
      ],
      "metadata": {
        "colab": {
          "base_uri": "https://localhost:8080/"
        },
        "id": "bSq3SEK-vMJx",
        "outputId": "8eb486c9-7f62-4452-b63d-94797732ae00"
      },
      "execution_count": null,
      "outputs": [
        {
          "output_type": "execute_result",
          "data": {
            "text/plain": [
              "['python', 'php']"
            ]
          },
          "metadata": {},
          "execution_count": 155
        }
      ]
    },
    {
      "cell_type": "code",
      "source": [
        "# Nested if with List Comprehension\n",
        "basket = ['apple','guava','cherry','banana']\n",
        "my_fruits = ['apple','kiwi','grapes','banana']\n",
        "a_fruit = [fruit for fruit in basket if fruit.startswith('a')]\n",
        "print(a_fruit)\n",
        "frus = basket+my_fruits\n",
        "print(frus)"
      ],
      "metadata": {
        "colab": {
          "base_uri": "https://localhost:8080/"
        },
        "id": "gZjIWFvMvQRy",
        "outputId": "48dc40bb-7a39-448b-ebc1-18da7cc99f1d"
      },
      "execution_count": null,
      "outputs": [
        {
          "output_type": "stream",
          "name": "stdout",
          "text": [
            "['apple']\n",
            "['apple', 'guava', 'cherry', 'banana', 'apple', 'kiwi', 'grapes', 'banana']\n"
          ]
        }
      ]
    },
    {
      "cell_type": "code",
      "source": [
        "# Print a (3,3) matrix using list comprehension -> Nested List comprehension\n",
        "[[i*j for i in range(1,4)] for j in range(1,4)]"
      ],
      "metadata": {
        "colab": {
          "base_uri": "https://localhost:8080/"
        },
        "id": "gXINZMU_vWJ5",
        "outputId": "b90d2739-d416-4579-9286-49a7a16fce6d"
      },
      "execution_count": null,
      "outputs": [
        {
          "output_type": "execute_result",
          "data": {
            "text/plain": [
              "[[1, 2, 3], [2, 4, 6], [3, 6, 9]]"
            ]
          },
          "metadata": {},
          "execution_count": 171
        }
      ]
    },
    {
      "cell_type": "code",
      "source": [
        "# cartesian products -> List comprehension on 2 lists together\n",
        "h= [1, 2, 3]\n",
        "k =[2, 4, 6]\n",
        "[i*j for i in h for j in k ]"
      ],
      "metadata": {
        "colab": {
          "base_uri": "https://localhost:8080/"
        },
        "id": "6TvKYCyCvbhF",
        "outputId": "686c005d-7926-4c4a-87c6-9d731c6c7823"
      },
      "execution_count": null,
      "outputs": [
        {
          "output_type": "execute_result",
          "data": {
            "text/plain": [
              "[2, 4, 6, 4, 8, 12, 6, 12, 18]"
            ]
          },
          "metadata": {},
          "execution_count": 172
        }
      ]
    },
    {
      "cell_type": "markdown",
      "source": [
        "#proograme excercise of list"
      ],
      "metadata": {
        "id": "boilVBh_9yKd"
      }
    },
    {
      "cell_type": "code",
      "source": [
        "# Create 2 lists from a given list where\n",
        "# 1st list will contain all the odd numbers from the original list and\n",
        "# the 2nd one will contain all the even numbers\n",
        "\n",
        "L = [1,2,3,4,5,6]\n",
        "f_list = [i for i in L if i%2==0]\n",
        "print(f_list)\n",
        "s_list = [i for i in L if i%2!=0]\n",
        "print(s_list)"
      ],
      "metadata": {
        "id": "dNGiQCzMaSKV",
        "colab": {
          "base_uri": "https://localhost:8080/"
        },
        "outputId": "3d02af7c-bb08-4d3f-8a1c-4a1e82f2f8eb"
      },
      "execution_count": null,
      "outputs": [
        {
          "output_type": "stream",
          "name": "stdout",
          "text": [
            "[2, 4, 6]\n",
            "[1, 3, 5]\n"
          ]
        }
      ]
    },
    {
      "cell_type": "code",
      "source": [
        "# How to take list as input from user\n",
        "list_input = input(\"enter the user list\")\n",
        "user_list = list_input.split()\n",
        "print(user_list)"
      ],
      "metadata": {
        "id": "3NdKSX-7biO1",
        "colab": {
          "base_uri": "https://localhost:8080/"
        },
        "outputId": "62a176a4-bd37-49b2-d763-8c3448762dbb"
      },
      "execution_count": null,
      "outputs": [
        {
          "output_type": "stream",
          "name": "stdout",
          "text": [
            "enter the user list2 3 4 5 6\n",
            "['2', '3', '4', '5', '6']\n"
          ]
        }
      ]
    },
    {
      "cell_type": "code",
      "source": [
        "# Write a program to merge 2 list without using the + operator\n",
        "L1 = [1,2,3,4]\n",
        "L2 = [5,6,7,8]\n",
        "L1.extend(L2)\n",
        "print(L1)\n",
        "\n",
        "\n"
      ],
      "metadata": {
        "id": "UtnSb5P3aayJ",
        "colab": {
          "base_uri": "https://localhost:8080/"
        },
        "outputId": "4b8c3fa8-2698-4051-96c8-6c4d93d48037"
      },
      "execution_count": null,
      "outputs": [
        {
          "output_type": "stream",
          "name": "stdout",
          "text": [
            "[1, 2, 3, 4, 5, 6, 7, 8]\n"
          ]
        }
      ]
    },
    {
      "cell_type": "code",
      "source": [
        "# Write a program to replace an item with a different item if found in the list\n",
        "L = [1,2,3,4,5,3]\n",
        "# replace 3 with 300\n",
        "L[-1]=300\n",
        "print(L)"
      ],
      "metadata": {
        "id": "_vd7x_AJaeNY",
        "colab": {
          "base_uri": "https://localhost:8080/"
        },
        "outputId": "4aa9f538-d535-4bb3-feab-9c3a38d01178"
      },
      "execution_count": null,
      "outputs": [
        {
          "output_type": "stream",
          "name": "stdout",
          "text": [
            "[1, 2, 3, 4, 5, 300]\n"
          ]
        }
      ]
    },
    {
      "cell_type": "code",
      "source": [
        "# Write a program that can convert a 2D list to 1D list\n",
        "def convert_2d_to_1d(input_list):\n",
        "  one_d = [i for sublist in input_list for i in sublist]\n",
        "  return one_d\n",
        "\n",
        "convert_2d_to_1d([[1,2],[3,4]])\n",
        "\n"
      ],
      "metadata": {
        "id": "93oKWuVFaiDV",
        "colab": {
          "base_uri": "https://localhost:8080/"
        },
        "outputId": "71b1f407-7ee5-4206-9d6b-10862e98269a"
      },
      "execution_count": null,
      "outputs": [
        {
          "output_type": "execute_result",
          "data": {
            "text/plain": [
              "[1, 2, 3, 4]"
            ]
          },
          "metadata": {},
          "execution_count": 198
        }
      ]
    },
    {
      "cell_type": "code",
      "source": [
        "# Write a program to remove duplicate items from a list\n",
        "\n",
        "L = [1,2,1,2,3,4,5,3,4]\n",
        "L1 = []\n",
        "for i in L:\n",
        "  if i not in L1:\n",
        "    L1.append(i)\n",
        "print(L1)"
      ],
      "metadata": {
        "id": "8z0CO9GMat6y",
        "colab": {
          "base_uri": "https://localhost:8080/"
        },
        "outputId": "293714d7-eefb-4658-bf93-eb63f319b59b"
      },
      "execution_count": null,
      "outputs": [
        {
          "output_type": "stream",
          "name": "stdout",
          "text": [
            "[1, 2, 3, 4, 5]\n"
          ]
        }
      ]
    },
    {
      "cell_type": "code",
      "source": [
        "# Write a program to check if a list is in ascending order or not\n",
        "def  ascending_order(first_list):\n",
        "  if sorted(first_list)==first_list:\n",
        "    print(True)\n",
        "  else:\n",
        "    print(False)\n",
        "\n",
        "ascending_order([1,2,5,7,4])\n",
        "ascending_order([11,22,31,49,])\n"
      ],
      "metadata": {
        "id": "zCQlyJ-VbFMG",
        "colab": {
          "base_uri": "https://localhost:8080/"
        },
        "outputId": "335c9823-362f-4ad0-a033-d5488fb27b47"
      },
      "execution_count": null,
      "outputs": [
        {
          "output_type": "stream",
          "name": "stdout",
          "text": [
            "False\n",
            "True\n"
          ]
        }
      ]
    },
    {
      "cell_type": "markdown",
      "source": [],
      "metadata": {
        "id": "y8gKHF3u-CSn"
      }
    }
  ]
}